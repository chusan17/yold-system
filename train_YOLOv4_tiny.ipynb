{
  "nbformat": 4,
  "nbformat_minor": 0,
  "metadata": {
    "colab": {
      "name": "train_YOLOv4_tiny.ipynb",
      "provenance": [],
      "collapsed_sections": []
    },
    "kernelspec": {
      "name": "python3",
      "display_name": "Python 3"
    }
  },
  "cells": [
    {
      "cell_type": "markdown",
      "metadata": {
        "id": "gQFhhF2hR5NJ"
      },
      "source": [
        "First of all, Enable GPU on your Colaboratory."
      ]
    },
    {
      "cell_type": "markdown",
      "metadata": {
        "id": "3260zcyDSMwH"
      },
      "source": [
        "Get YOLO v4 from Github repo."
      ]
    },
    {
      "cell_type": "code",
      "metadata": {
        "id": "DnfhxDDjR0u5"
      },
      "source": [
        "!git clone https://github.com/AlexeyAB/darknet"
      ],
      "execution_count": null,
      "outputs": []
    },
    {
      "cell_type": "markdown",
      "metadata": {
        "id": "I9Jw-MfRSWC8"
      },
      "source": [
        "Rewrite `makefile` to use GPU and OpenCV."
      ]
    },
    {
      "cell_type": "code",
      "metadata": {
        "id": "1rOfRFuDR3Se"
      },
      "source": [
        "%cd darknet\r\n",
        "!sed -i 's/OPENCV=0/OPENCV=1/' Makefile\r\n",
        "!sed -i 's/GPU=0/GPU=1/' Makefile\r\n",
        "!sed -i 's/CUDNN=0/CUDNN=1/' Makefile\r\n",
        "!sed -i 's/CUDNN_HALF=0/CUDNN_HALF=1/' Makefile"
      ],
      "execution_count": null,
      "outputs": []
    },
    {
      "cell_type": "markdown",
      "metadata": {
        "id": "1m_yjwhvSnwS"
      },
      "source": [
        "Do build it."
      ]
    },
    {
      "cell_type": "code",
      "metadata": {
        "id": "krbuPNwKRxsp"
      },
      "source": [
        "!make"
      ],
      "execution_count": null,
      "outputs": []
    },
    {
      "cell_type": "markdown",
      "metadata": {
        "id": "NWD_KfssSuV0"
      },
      "source": [
        "Download pre-trained weights from YOLOv4 repo."
      ]
    },
    {
      "cell_type": "code",
      "metadata": {
        "id": "u0_rdTc-SxTq"
      },
      "source": [
        "!wget https://github.com/AlexeyAB/darknet/releases/download/darknet_yolo_v4_pre/yolov4-tiny.conv.29"
      ],
      "execution_count": null,
      "outputs": []
    },
    {
      "cell_type": "markdown",
      "metadata": {
        "id": "BPEMjfXVTQvw"
      },
      "source": [
        "Mount your own Google Drive on Colaboratory in order to read datasets you made."
      ]
    },
    {
      "cell_type": "code",
      "metadata": {
        "id": "aLcEK-OyTUUM"
      },
      "source": [
        "%cd ..\r\n",
        "from google.colab import drive\r\n",
        "drive.mount('/content/gdrive')"
      ],
      "execution_count": null,
      "outputs": []
    },
    {
      "cell_type": "markdown",
      "metadata": {
        "id": "1tpHV6tqUoYy"
      },
      "source": [
        "Make `train.txt` and `test.txt`.\r\n",
        "<br>\r\n",
        "`obj` is train dataset directory and `dir` is parent directory of `obj`."
      ]
    },
    {
      "cell_type": "code",
      "metadata": {
        "id": "hLoLNodZUsVO"
      },
      "source": [
        "import os\r\n",
        "\r\n",
        "image_files = []\r\n",
        "os.chdir(os.path.join(\"dir\", \"obj\"))\r\n",
        "for filename in os.listdir(os.getcwd()):\r\n",
        "    if filename.endswith(\".jpg\"):\r\n",
        "        image_files.append(\"dir/obj/\" + filename)\r\n",
        "os.chdir(\"..\")\r\n",
        "with open(\"train.txt\", \"w\") as outfile:\r\n",
        "    for image in image_files:\r\n",
        "        outfile.write(image)\r\n",
        "        outfile.write(\"\\n\")\r\n",
        "    outfile.close()\r\n",
        "os.chdir(\"..\")"
      ],
      "execution_count": null,
      "outputs": []
    },
    {
      "cell_type": "code",
      "metadata": {
        "id": "6R_ytcJtVNOu"
      },
      "source": [
        "import os\r\n",
        "\r\n",
        "image_files = []\r\n",
        "os.chdir(os.path.join(\"dir\", \"test\"))\r\n",
        "for filename in os.listdir(os.getcwd()):\r\n",
        "    if filename.endswith(\".jpg\"):\r\n",
        "        image_files.append(\"dir/test/\" + filename)\r\n",
        "os.chdir(\"..\")\r\n",
        "with open(\"test.txt\", \"w\") as outfile:\r\n",
        "    for image in image_files:\r\n",
        "        outfile.write(image)\r\n",
        "        outfile.write(\"\\n\")\r\n",
        "    outfile.close()\r\n",
        "os.chdir(\"..\")"
      ],
      "execution_count": null,
      "outputs": []
    },
    {
      "cell_type": "markdown",
      "metadata": {
        "id": "FfUpYrTsVz-S"
      },
      "source": [
        "If you have prepared all of files, let's train YOLOv4 tiny with your datasets."
      ]
    },
    {
      "cell_type": "code",
      "metadata": {
        "id": "kh38JqDvV1NX"
      },
      "source": [
        "!./darknet detector train /path/to/obj.data.txt /path/to/yolov4-tiny-custom.cfg /path/to/yolov4-tiny.conv.29 -dont_show -map"
      ],
      "execution_count": null,
      "outputs": []
    },
    {
      "cell_type": "markdown",
      "metadata": {
        "id": "4HBXQEnfV8g8"
      },
      "source": [
        "`yolov4-tiny-custom_best.weights` would be generated in `backup` directory."
      ]
    }
  ]
}
